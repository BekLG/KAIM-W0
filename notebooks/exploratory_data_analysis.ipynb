{
 "cells": [
  {
   "cell_type": "code",
   "execution_count": null,
   "metadata": {},
   "outputs": [],
   "source": [
    "import pandas as pd\n",
    "from scipy import stats\n",
    "import numpy as np\n",
    "import pandas as pd\n",
    "import matplotlib.pyplot as plt\n",
    "import seaborn as sns\n",
    "import numpy as np"
   ]
  },
  {
   "cell_type": "code",
   "execution_count": null,
   "metadata": {},
   "outputs": [],
   "source": [
    "df_benin = pd.read_csv('/home/bek/Desktop/KAiM/data/benin-malanville.csv')\n",
    "df_sierraleone = pd.read_csv('/home/bek/Desktop/KAiM/data/sierraleone-bumbuna.csv')\n",
    "df_togo = pd.read_csv('/home/bek/Desktop/KAiM/data/togo-dapaong_qc.csv')\n"
   ]
  },
  {
   "cell_type": "code",
   "execution_count": null,
   "metadata": {},
   "outputs": [],
   "source": [
    "print(\"Benin Data:\")\n",
    "print(df_benin.head())\n",
    "print(\"\\nSierra Leone Data:\")\n",
    "print(df_sierraleone.head())\n",
    "print(\"\\nTogo Data:\")\n",
    "print(df_togo.head())"
   ]
  },
  {
   "cell_type": "code",
   "execution_count": null,
   "metadata": {},
   "outputs": [],
   "source": [
    "#Summary statistics for numeric columns\n",
    "print(\"Benin Data Summary Statistics:\")\n",
    "print(df_benin.describe())\n",
    "\n",
    "print(\"\\nSierra Leone Data Summary Statistics:\")\n",
    "print(df_sierraleone.describe())\n",
    "\n",
    "print(\"\\nTogo Data Summary Statistics:\")\n",
    "print(df_togo.describe())"
   ]
  },
  {
   "cell_type": "code",
   "execution_count": null,
   "metadata": {},
   "outputs": [],
   "source": [
    "# Checking for missing values\n",
    "print(\"Missing Values in Benin Data:\")\n",
    "print(df_benin.isnull().sum())\n",
    "\n",
    "print(\"\\nMissing Values in Sierra Leone Data:\")\n",
    "print(df_sierraleone.isnull().sum())\n",
    "\n",
    "print(\"\\nMissing Values in Togo Data:\")\n",
    "print(df_togo.isnull().sum())"
   ]
  },
  {
   "cell_type": "code",
   "execution_count": null,
   "metadata": {},
   "outputs": [],
   "source": [
    "# Outlier detection using Z-score\n",
    "\n",
    "def detect_outliers(df, column):\n",
    "    z_scores = np.abs(stats.zscore(df[column].dropna()))\n",
    "    return df[(z_scores > 3)]\n",
    "\n",
    "# Detecting outliers in specific columns\n",
    "columns_to_check = ['GHI', 'DNI', 'DHI', 'ModA', 'ModB', 'WS', 'WSgust']\n",
    "\n",
    "for col in columns_to_check:\n",
    "    print(f\"\\nOutliers in Benin Data ({col}):\")\n",
    "    print(detect_outliers(df_benin, col))\n",
    "    \n",
    "    print(f\"\\nOutliers in Sierra Leone Data ({col}):\")\n",
    "    print(detect_outliers(df_sierraleone, col))\n",
    "    \n",
    "    print(f\"\\nOutliers in Togo Data ({col}):\")\n",
    "    print(detect_outliers(df_togo, col))"
   ]
  },
  {
   "cell_type": "markdown",
   "metadata": {},
   "source": [
    "## Time Series Analysis"
   ]
  },
  {
   "cell_type": "code",
   "execution_count": null,
   "metadata": {},
   "outputs": [],
   "source": [
    "#Convert the Timestamp Column to Datetime Format\n",
    "\n",
    "df_benin['Timestamp'] = pd.to_datetime(df_benin['Timestamp'])\n",
    "df_sierraleone['Timestamp'] = pd.to_datetime(df_sierraleone['Timestamp'])\n",
    "df_togo['Timestamp'] = pd.to_datetime(df_togo['Timestamp'])\n"
   ]
  },
  {
   "cell_type": "code",
   "execution_count": null,
   "metadata": {},
   "outputs": [],
   "source": [
    "\n",
    "# Plotting GHI, DNI, DHI, and Tamb over time for Benin\n",
    "plt.figure(figsize=(14, 7))\n",
    "plt.plot(df_benin['Timestamp'], df_benin['GHI'], label='GHI')\n",
    "plt.plot(df_benin['Timestamp'], df_benin['DNI'], label='DNI')\n",
    "plt.plot(df_benin['Timestamp'], df_benin['DHI'], label='DHI')\n",
    "plt.plot(df_benin['Timestamp'], df_benin['Tamb'], label='Tamb')\n",
    "plt.xlabel('Timestamp')\n",
    "plt.ylabel('Values')\n",
    "plt.title('Benin - Time Series of GHI, DNI, DHI, Tamb')\n",
    "plt.legend()\n",
    "plt.xticks(rotation=45)\n",
    "plt.show()\n"
   ]
  },
  {
   "cell_type": "code",
   "execution_count": null,
   "metadata": {},
   "outputs": [],
   "source": [
    "# Plotting GHI, DNI, DHI, and Tamb over time for Sierra Leone\n",
    "plt.figure(figsize=(14, 7))\n",
    "plt.plot(df_sierraleone['Timestamp'], df_sierraleone['GHI'], label='GHI')\n",
    "plt.plot(df_sierraleone['Timestamp'], df_sierraleone['DNI'], label='DNI')\n",
    "plt.plot(df_sierraleone['Timestamp'], df_sierraleone['DHI'], label='DHI')\n",
    "plt.plot(df_sierraleone['Timestamp'], df_sierraleone['Tamb'], label='Tamb')\n",
    "plt.xlabel('Timestamp')\n",
    "plt.ylabel('Values')\n",
    "plt.title('Sierra Leone - Time Series of GHI, DNI, DHI, Tamb')\n",
    "plt.legend()\n",
    "plt.xticks(rotation=45)\n",
    "plt.show()"
   ]
  },
  {
   "cell_type": "code",
   "execution_count": null,
   "metadata": {},
   "outputs": [],
   "source": [
    "# Plotting GHI, DNI, DHI, and Tamb over time for Togo\n",
    "plt.figure(figsize=(14, 7))\n",
    "plt.plot(df_togo['Timestamp'], df_togo['GHI'], label='GHI')\n",
    "plt.plot(df_togo['Timestamp'], df_togo['DNI'], label='DNI')\n",
    "plt.plot(df_togo['Timestamp'], df_togo['DHI'], label='DHI')\n",
    "plt.plot(df_togo['Timestamp'], df_togo['Tamb'], label='Tamb')\n",
    "plt.xlabel('Timestamp')\n",
    "plt.ylabel('Values')\n",
    "plt.title('Togo - Time Series of GHI, DNI, DHI, Tamb')\n",
    "plt.legend()\n",
    "plt.xticks(rotation=45)\n",
    "plt.show()"
   ]
  },
  {
   "cell_type": "markdown",
   "metadata": {},
   "source": [
    "## cleaing"
   ]
  },
  {
   "cell_type": "code",
   "execution_count": null,
   "metadata": {},
   "outputs": [],
   "source": [
    "# Plotting ModA and ModB vs. Cleaning for Benin\n",
    "plt.figure(figsize=(14, 7))\n",
    "plt.plot(df_benin['Timestamp'], df_benin['ModA'], label='ModA')\n",
    "plt.plot(df_benin['Timestamp'], df_benin['ModB'], label='ModB')\n",
    "plt.plot(df_benin['Timestamp'], df_benin['Cleaning'], label='Cleaning', linestyle='--')\n",
    "plt.xlabel('Timestamp')\n",
    "plt.ylabel('Values')\n",
    "plt.title('Benin - Impact of Cleaning on Sensor Readings (ModA, ModB)')\n",
    "plt.legend()\n",
    "plt.xticks(rotation=45)\n",
    "plt.show()\n"
   ]
  },
  {
   "cell_type": "code",
   "execution_count": null,
   "metadata": {},
   "outputs": [],
   "source": [
    "# Plotting ModA and ModB vs. Cleaning for Sierra Leone\n",
    "plt.figure(figsize=(14, 7))\n",
    "plt.plot(df_sierraleone['Timestamp'], df_sierraleone['ModA'], label='ModA')\n",
    "plt.plot(df_sierraleone['Timestamp'], df_sierraleone['ModB'], label='ModB')\n",
    "plt.plot(df_sierraleone['Timestamp'], df_sierraleone['Cleaning'], label='Cleaning', linestyle='--')\n",
    "plt.xlabel('Timestamp')\n",
    "plt.ylabel('Values')\n",
    "plt.title('Sierra Leone - Impact of Cleaning on Sensor Readings (ModA, ModB)')\n",
    "plt.legend()\n",
    "plt.xticks(rotation=45)\n",
    "plt.show()"
   ]
  },
  {
   "cell_type": "code",
   "execution_count": null,
   "metadata": {},
   "outputs": [],
   "source": [
    "# Plotting ModA and ModB vs. Cleaning for Togo\n",
    "plt.figure(figsize=(14, 7))\n",
    "plt.plot(df_togo['Timestamp'], df_togo['ModA'], label='ModA')\n",
    "plt.plot(df_togo['Timestamp'], df_togo['ModB'], label='ModB')\n",
    "plt.plot(df_togo['Timestamp'], df_togo['Cleaning'], label='Cleaning', linestyle='--')\n",
    "plt.xlabel('Timestamp')\n",
    "plt.ylabel('Values')\n",
    "plt.title('Togo - Impact of Cleaning on Sensor Readings (ModA, ModB)')\n",
    "plt.legend()\n",
    "plt.xticks(rotation=45)\n",
    "plt.show()"
   ]
  },
  {
   "cell_type": "markdown",
   "metadata": {},
   "source": [
    "## Correlation Analysis"
   ]
  },
  {
   "cell_type": "code",
   "execution_count": null,
   "metadata": {},
   "outputs": [],
   "source": [
    "\n",
    "# Correlation heatmap for Benin data\n",
    "plt.figure(figsize=(12, 8))\n",
    "sns.heatmap(df_benin.corr(), annot=True, cmap='coolwarm', fmt='.2f')\n",
    "plt.title('Benin Data - Correlation Heatmap')\n",
    "plt.show()\n"
   ]
  },
  {
   "cell_type": "code",
   "execution_count": null,
   "metadata": {},
   "outputs": [],
   "source": [
    "# Correlation heatmap for Sierra Leone data\n",
    "plt.figure(figsize=(12, 8))\n",
    "sns.heatmap(df_sierraleone.corr(), annot=True, cmap='coolwarm', fmt='.2f')\n",
    "plt.title('Sierra Leone Data - Correlation Heatmap')\n",
    "plt.show()"
   ]
  },
  {
   "cell_type": "code",
   "execution_count": null,
   "metadata": {},
   "outputs": [],
   "source": [
    "# Correlation heatmap for Togo data\n",
    "plt.figure(figsize=(12, 8))\n",
    "sns.heatmap(df_togo.corr(), annot=True, cmap='coolwarm', fmt='.2f')\n",
    "plt.title('Togo Data - Correlation Heatmap')\n",
    "plt.show()"
   ]
  },
  {
   "cell_type": "markdown",
   "metadata": {},
   "source": [
    "## Wind Analysis"
   ]
  },
  {
   "cell_type": "code",
   "execution_count": null,
   "metadata": {},
   "outputs": [],
   "source": [
    "# Polar plot for wind analysis (Wind Speed vs. Direction)\n",
    "\n",
    "# Convert WD (wind direction) from degrees to radians for polar plot\n",
    "df_benin['WD_rad'] = np.deg2rad(df_benin['WD'])\n",
    "\n",
    "# Polar plot for Benin\n",
    "plt.figure(figsize=(8, 8))\n",
    "plt.subplot(projection='polar')\n",
    "plt.scatter(df_benin['WD_rad'], df_benin['WS'], c=df_benin['WS'], cmap='viridis', alpha=0.75)\n",
    "plt.title('Benin - Wind Speed vs. Wind Direction')\n",
    "plt.show()"
   ]
  },
  {
   "cell_type": "code",
   "execution_count": null,
   "metadata": {},
   "outputs": [],
   "source": [
    "# Polar plot for Sierra Leone wind analysis (Wind Speed vs. Direction)\n",
    "df_sierraleone['WD_rad'] = np.deg2rad(df_sierraleone['WD'])\n",
    "\n",
    "plt.figure(figsize=(8, 8))\n",
    "plt.subplot(projection='polar')\n",
    "plt.scatter(df_sierraleone['WD_rad'], df_sierraleone['WS'], c=df_sierraleone['WS'], cmap='viridis', alpha=0.75)\n",
    "plt.title('Sierra Leone - Wind Speed vs. Wind Direction')\n",
    "plt.show()"
   ]
  },
  {
   "cell_type": "code",
   "execution_count": null,
   "metadata": {},
   "outputs": [],
   "source": [
    "# Polar plot for Togo wind analysis (Wind Speed vs. Direction)\n",
    "df_togo['WD_rad'] = np.deg2rad(df_togo['WD'])\n",
    "\n",
    "plt.figure(figsize=(8, 8))\n",
    "plt.subplot(projection='polar')\n",
    "plt.scatter(df_togo['WD_rad'], df_togo['WS'], c=df_togo['WS'], cmap='viridis', alpha=0.75)\n",
    "plt.title('Togo - Wind Speed vs. Wind Direction')\n",
    "plt.show()\n"
   ]
  },
  {
   "cell_type": "markdown",
   "metadata": {},
   "source": [
    "## Temperature Analysis"
   ]
  },
  {
   "cell_type": "code",
   "execution_count": null,
   "metadata": {},
   "outputs": [],
   "source": [
    "# Scatter plot for temperature vs. relative humidity\n",
    "plt.figure(figsize=(8, 6))\n",
    "plt.scatter(df_benin['Tamb'], df_benin['RH'], alpha=0.5)\n",
    "plt.xlabel('Temperature (Tamb)')\n",
    "plt.ylabel('Relative Humidity (RH)')\n",
    "plt.title('Benin - Temperature vs. Relative Humidity')\n",
    "plt.show()\n"
   ]
  },
  {
   "cell_type": "code",
   "execution_count": null,
   "metadata": {},
   "outputs": [],
   "source": [
    "# Scatter plot for temperature vs. relative humidity in Sierra Leone\n",
    "plt.figure(figsize=(8, 6))\n",
    "plt.scatter(df_sierraleone['Tamb'], df_sierraleone['RH'], alpha=0.5)\n",
    "plt.xlabel('Temperature (Tamb)')\n",
    "plt.ylabel('Relative Humidity (RH)')\n",
    "plt.title('Sierra Leone - Temperature vs. Relative Humidity')\n",
    "plt.show()"
   ]
  },
  {
   "cell_type": "code",
   "execution_count": null,
   "metadata": {},
   "outputs": [],
   "source": [
    "# Scatter plot for temperature vs. relative humidity in Togo\n",
    "plt.figure(figsize=(8, 6))\n",
    "plt.scatter(df_togo['Tamb'], df_togo['RH'], alpha=0.5)\n",
    "plt.xlabel('Temperature (Tamb)')\n",
    "plt.ylabel('Relative Humidity (RH)')\n",
    "plt.title('Togo - Temperature vs. Relative Humidity')\n",
    "plt.show()"
   ]
  },
  {
   "cell_type": "markdown",
   "metadata": {},
   "source": [
    "## Histograms"
   ]
  },
  {
   "cell_type": "code",
   "execution_count": null,
   "metadata": {},
   "outputs": [],
   "source": [
    "# Histograms for Benin data\n",
    "df_benin[['GHI', 'DNI', 'DHI', 'WS', 'Tamb']].hist(figsize=(14, 10), bins=20)\n",
    "plt.suptitle('Benin Data - Histograms of Key Variables')\n",
    "plt.show()\n"
   ]
  },
  {
   "cell_type": "code",
   "execution_count": null,
   "metadata": {},
   "outputs": [],
   "source": [
    "# Histograms for Sierra Leone data\n",
    "df_sierraleone[['GHI', 'DNI', 'DHI', 'WS', 'Tamb']].hist(figsize=(14, 10), bins=20)\n",
    "plt.suptitle('Sierra Leone Data - Histograms of Key Variables')\n",
    "plt.show()"
   ]
  },
  {
   "cell_type": "code",
   "execution_count": null,
   "metadata": {},
   "outputs": [],
   "source": [
    "# Histograms for Togo data\n",
    "df_togo[['GHI', 'DNI', 'DHI', 'WS', 'Tamb']].hist(figsize=(14, 10), bins=20)\n",
    "plt.suptitle('Togo Data - Histograms of Key Variables')\n",
    "plt.show()"
   ]
  },
  {
   "cell_type": "markdown",
   "metadata": {},
   "source": [
    "## Z-Score Analysis"
   ]
  },
  {
   "cell_type": "code",
   "execution_count": null,
   "metadata": {},
   "outputs": [],
   "source": [
    "# Z-Score Analysis for Benin\n",
    "z_scores_ghi = np.abs(stats.zscore(df_benin['GHI'].dropna()))\n",
    "print(\"Z-scores for GHI (Benin):\")\n",
    "print(z_scores_ghi[z_scores_ghi > 3])  # Flagging outliers"
   ]
  },
  {
   "cell_type": "code",
   "execution_count": null,
   "metadata": {},
   "outputs": [],
   "source": [
    "# Z-Score Analysis for Sierra Leone\n",
    "z_scores_ghi_sierraleone = np.abs(stats.zscore(df_sierraleone['GHI'].dropna()))\n",
    "print(\"Z-scores for GHI (Sierra Leone):\")\n",
    "print(z_scores_ghi_sierraleone[z_scores_ghi_sierraleone > 3])  # Flagging outliers\n"
   ]
  },
  {
   "cell_type": "code",
   "execution_count": null,
   "metadata": {},
   "outputs": [],
   "source": [
    "# Z-Score Analysis for Togo\n",
    "z_scores_ghi_togo = np.abs(stats.zscore(df_togo['GHI'].dropna()))\n",
    "print(\"Z-scores for GHI (Togo):\")\n",
    "print(z_scores_ghi_togo[z_scores_ghi_togo > 3])  # Flagging outliers"
   ]
  },
  {
   "cell_type": "markdown",
   "metadata": {},
   "source": [
    "## Bubble Charts"
   ]
  },
  {
   "cell_type": "code",
   "execution_count": null,
   "metadata": {},
   "outputs": [],
   "source": [
    "# Bubble chart: GHI vs. Tamb vs. WS, with bubble size representing RH\n",
    "plt.figure(figsize=(10, 8))\n",
    "plt.scatter(df_benin['GHI'], df_benin['Tamb'], s=df_benin['RH']*10, alpha=0.5, c=df_benin['WS'], cmap='cool')\n",
    "plt.xlabel('GHI')\n",
    "plt.ylabel('Temperature (Tamb)')\n",
    "plt.title('Benin - GHI vs. Temperature vs. Wind Speed (Bubble Size: RH)')\n",
    "plt.colorbar(label='Wind Speed (WS)')\n",
    "plt.show()\n"
   ]
  },
  {
   "cell_type": "code",
   "execution_count": null,
   "metadata": {},
   "outputs": [],
   "source": [
    "# Bubble chart for Sierra Leone: GHI vs. Tamb vs. WS, with bubble size representing RH\n",
    "plt.figure(figsize=(10, 8))\n",
    "plt.scatter(df_sierraleone['GHI'], df_sierraleone['Tamb'], s=df_sierraleone['RH']*10, alpha=0.5, c=df_sierraleone['WS'], cmap='cool')\n",
    "plt.xlabel('GHI')\n",
    "plt.ylabel('Temperature (Tamb)')\n",
    "plt.title('Sierra Leone - GHI vs. Temperature vs. Wind Speed (Bubble Size: RH)')\n",
    "plt.colorbar(label='Wind Speed (WS)')\n",
    "plt.show()\n"
   ]
  },
  {
   "cell_type": "code",
   "execution_count": null,
   "metadata": {},
   "outputs": [],
   "source": [
    "# Bubble chart for Togo: GHI vs. Tamb vs. WS, with bubble size representing RH\n",
    "plt.figure(figsize=(10, 8))\n",
    "plt.scatter(df_togo['GHI'], df_togo['Tamb'], s=df_togo['RH']*10, alpha=0.5, c=df_togo['WS'], cmap='cool')\n",
    "plt.xlabel('GHI')\n",
    "plt.ylabel('Temperature (Tamb)')\n",
    "plt.title('Togo - GHI vs. Temperature vs. Wind Speed (Bubble Size: RH)')\n",
    "plt.colorbar(label='Wind Speed (WS)')\n",
    "plt.show()"
   ]
  },
  {
   "cell_type": "markdown",
   "metadata": {},
   "source": [
    "## Data Cleaning"
   ]
  },
  {
   "cell_type": "code",
   "execution_count": null,
   "metadata": {},
   "outputs": [],
   "source": [
    "# handling missing values in 'Comments' by dropping the column\n",
    "df_benin.drop(columns=['Comments'], inplace=True)\n",
    "df_sierraleone.drop(columns=['Comments'], inplace=True)\n",
    "df_togo.drop(columns=['Comments'], inplace=True)\n",
    "\n",
    "# fill missing values in other columns\n",
    "df_benin.fillna(method='ffill', inplace=True)  # Forward filling\n",
    "df_sierraleone.fillna(method='ffill', inplace=True) \n",
    "df_togo.fillna(method='ffill', inplace=True)\n"
   ]
  }
 ],
 "metadata": {
  "kernelspec": {
   "display_name": "Python 3",
   "language": "python",
   "name": "python3"
  },
  "language_info": {
   "codemirror_mode": {
    "name": "ipython",
    "version": 3
   },
   "file_extension": ".py",
   "mimetype": "text/x-python",
   "name": "python",
   "nbconvert_exporter": "python",
   "pygments_lexer": "ipython3",
   "version": "3.10.12"
  }
 },
 "nbformat": 4,
 "nbformat_minor": 2
}
